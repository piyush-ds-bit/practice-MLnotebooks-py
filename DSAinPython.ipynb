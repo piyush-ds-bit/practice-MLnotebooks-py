{
 "cells": [
  {
   "cell_type": "markdown",
   "id": "a583f302-b1a1-4634-932c-ce6f65c2c3e8",
   "metadata": {},
   "source": [
    "# Algorithmic efficiency"
   ]
  },
  {
   "cell_type": "markdown",
   "id": "a52c3846-64ad-49ea-8a18-16b858f96f33",
   "metadata": {},
   "source": [
    "## Time comlexity (big Oh)\n",
    "### -- order of growth"
   ]
  },
  {
   "cell_type": "code",
   "execution_count": 27,
   "id": "a560afa8-bd91-4400-b3a9-5ec908ec8136",
   "metadata": {},
   "outputs": [
    {
     "name": "stdout",
     "output_type": "stream",
     "text": [
      "15\n",
      "120\n",
      "Time Complexity is n\n"
     ]
    }
   ],
   "source": [
    "lists = [1,2,3,4,5]\n",
    "\n",
    "sums = 0\n",
    "for i in lists:\n",
    "    sums+=i\n",
    "print(sums)\n",
    "\n",
    "product = 1\n",
    "for i in lists:\n",
    "    product*=i\n",
    "print(product)\n",
    "\n",
    "print(\"Time Complexity is n\")"
   ]
  },
  {
   "cell_type": "code",
   "execution_count": 25,
   "id": "8cd88505-fe5e-4f20-a5a3-bd385cb8c9f8",
   "metadata": {
    "scrolled": true
   },
   "outputs": [
    {
     "name": "stdout",
     "output_type": "stream",
     "text": [
      "(1,1)\n",
      "(1,2)\n",
      "(1,3)\n",
      "(1,4)\n",
      "(1,5)\n",
      "(2,1)\n",
      "(2,2)\n",
      "(2,3)\n",
      "(2,4)\n",
      "(2,5)\n",
      "(3,1)\n",
      "(3,2)\n",
      "(3,3)\n",
      "(3,4)\n",
      "(3,5)\n",
      "(4,1)\n",
      "(4,2)\n",
      "(4,3)\n",
      "(4,4)\n",
      "(4,5)\n",
      "(5,1)\n",
      "(5,2)\n",
      "(5,3)\n",
      "(5,4)\n",
      "(5,5)\n",
      "Time Complexity is n^2\n"
     ]
    }
   ],
   "source": [
    "lists = [1,2,3,4,5]\n",
    "\n",
    "for i in lists:\n",
    "    for j in lists:\n",
    "        print('({},{})'.format(i,j))\n",
    "print(\"Time Complexity is n^2\")"
   ]
  },
  {
   "cell_type": "code",
   "execution_count": 24,
   "id": "a0b77268-1fc1-4c84-b62e-0f6727978a82",
   "metadata": {},
   "outputs": [
    {
     "name": "stdout",
     "output_type": "stream",
     "text": [
      "789\n",
      "Time Complexity is log(n)\n"
     ]
    }
   ],
   "source": [
    "def IntToStr(i):\n",
    "    num = '0123456789'\n",
    "    if i==0:\n",
    "        return '0'\n",
    "    result = ''\n",
    "    while i > 0:\n",
    "        result = num[i%10] + result\n",
    "        i = i//10\n",
    "    return result\n",
    "i = 789  \n",
    "results = IntToStr(i)\n",
    "print(results)\n",
    "print(\"Time Complexity is log(n)\")"
   ]
  },
  {
   "cell_type": "code",
   "execution_count": 22,
   "id": "532ebcd9-0299-4d56-8b62-b87f2a6bf022",
   "metadata": {},
   "outputs": [
    {
     "name": "stdout",
     "output_type": "stream",
     "text": [
      "Final value of k: 90.0\n",
      "Time Complexity is nlog(n)\n"
     ]
    }
   ],
   "source": [
    "n = 10\n",
    "k = 0\n",
    "for i in range(int(n/2), n + 1):\n",
    "    j = 2\n",
    "    while j <= n:\n",
    "        k = k + n/2\n",
    "        j *= 2\n",
    "print(f\"Final value of k: {k}\")\n",
    "print(\"Time Complexity is nlog(n)\")\n",
    "    \n"
   ]
  },
  {
   "cell_type": "code",
   "execution_count": 29,
   "id": "c1ef1756-abbe-4726-b4a0-bdf21674c34e",
   "metadata": {
    "scrolled": true
   },
   "outputs": [
    {
     "name": "stdout",
     "output_type": "stream",
     "text": [
      "(1,2)\n",
      "(1,3)\n",
      "(1,4)\n",
      "(1,5)\n",
      "(2,3)\n",
      "(2,4)\n",
      "(2,5)\n",
      "(3,4)\n",
      "(3,5)\n",
      "(4,5)\n",
      "Time Complexity is n^2\n"
     ]
    }
   ],
   "source": [
    "lists = [1,2,3,4,5]\n",
    "for i in range(0,len(lists)):\n",
    "    for j in range(i+1,len(lists)):\n",
    "        print('({},{})'.format(lists[i],lists[j]))\n",
    "print(\"Time Complexity is n^2\")       "
   ]
  },
  {
   "cell_type": "code",
   "execution_count": 30,
   "id": "9389efc3-8027-47c7-8fc7-9ef5f0e5a093",
   "metadata": {
    "scrolled": true
   },
   "outputs": [
    {
     "name": "stdout",
     "output_type": "stream",
     "text": [
      "(1,2)\n",
      "(1,3)\n",
      "(1,4)\n",
      "(1,5)\n",
      "(1,6)\n",
      "(2,3)\n",
      "(2,4)\n",
      "(2,5)\n",
      "(2,6)\n",
      "(3,4)\n",
      "(3,5)\n",
      "(3,6)\n",
      "(4,5)\n",
      "(4,6)\n",
      "Time Complexity is O(n^2) & O(ab)\n"
     ]
    }
   ],
   "source": [
    "a = [1,2,3,4]\n",
    "b = [2,3,4,5,6]\n",
    "for i in  a:\n",
    "    for j in b:\n",
    "        if i<j:\n",
    "            print('({},{})'.format(i,j))\n",
    "print(\"Time Complexity is O(n^2) & O(ab)\")\\\n",
    "## as it is working two different array,accurate answer will O(ab) .In the previous question it was O(n^2)because the array was same\n",
    "## in the both operations(loop)"
   ]
  },
  {
   "cell_type": "code",
   "execution_count": null,
   "id": "4b692272-312b-49f8-aa65-e591f422a5de",
   "metadata": {},
   "outputs": [],
   "source": [
    "a = [1,2,3,4,5]\n",
    "b = [2,3,4,5,6]\n",
    "for i in a:\n",
    "    for j in b:\n",
    "        for k in range(10):\n",
    "            print('({},{})'.format(i,j))\n",
    "print(\"Time Complexity is O(n^2)\")\n",
    "## because,the third loop is constant...thats why !!"
   ]
  },
  {
   "cell_type": "code",
   "execution_count": 31,
   "id": "e311efe8-3062-4437-b4db-e1b8e3241507",
   "metadata": {},
   "outputs": [
    {
     "data": {
      "text/plain": [
       "'hsuyiP'"
      ]
     },
     "execution_count": 31,
     "metadata": {},
     "output_type": "execute_result"
    }
   ],
   "source": [
    "name = 'Piyush'\n",
    "def string(i):\n",
    "    return i[::-1]\n",
    "result = string(name)\n",
    "result"
   ]
  },
  {
   "cell_type": "code",
   "execution_count": 32,
   "id": "20bdea37-43ac-4508-8fb6-8df105a16670",
   "metadata": {},
   "outputs": [
    {
     "data": {
      "text/plain": [
       "120"
      ]
     },
     "execution_count": 32,
     "metadata": {},
     "output_type": "execute_result"
    }
   ],
   "source": [
    "def factorial(n):\n",
    "    if n==1 or n==0:\n",
    "        return 1\n",
    "    else:\n",
    "        return n*factorial(n-1)\n",
    "result = factorial(5)\n",
    "result\n",
    "## it is a recursion,so we will see how many times function is called.therefore for 5,function will be called 5 times,for 100 function\n",
    "## will be called 100 times\n",
    "print(\"time complexity is O(n)\")"
   ]
  },
  {
   "cell_type": "code",
   "execution_count": 33,
   "id": "e088e384-9f9f-4ce3-8138-18210800a5ec",
   "metadata": {},
   "outputs": [
    {
     "name": "stdout",
     "output_type": "stream",
     "text": [
      "1\n",
      "2\n",
      "4\n",
      "8\n",
      "16\n",
      "32\n",
      "32\n"
     ]
    }
   ],
   "source": [
    "def power(num):\n",
    "    if num<1:\n",
    "        return 0\n",
    "    elif num==1:\n",
    "        print(1)\n",
    "        return 1\n",
    "    else:\n",
    "        prev = power(num//2)\n",
    "        curr = prev*2\n",
    "        print(curr)\n",
    "        return curr\n",
    "print(power(45))"
   ]
  },
  {
   "cell_type": "markdown",
   "id": "9637f5c4-eb61-447d-8aa0-d37053c76654",
   "metadata": {},
   "source": [
    "## Dynamic Array"
   ]
  },
  {
   "cell_type": "code",
   "execution_count": 1,
   "id": "90ba9a0f-3e23-47c3-ae42-cf273ca9c308",
   "metadata": {},
   "outputs": [],
   "source": [
    "import ctypes"
   ]
  },
  {
   "cell_type": "code",
   "execution_count": 5,
   "id": "38fcc9e1-3be2-4f39-91e8-fd3902a772c2",
   "metadata": {},
   "outputs": [],
   "source": [
    "### Creating a list\n",
    "\n",
    "class meraList():\n",
    "\n",
    "    def __init__(self):\n",
    "        self.size = 1\n",
    "        self.n = 0\n",
    "        self.A = self.__make_array(self.size)\n",
    "\n",
    "    def __len__(self):\n",
    "        return self.n\n",
    "\n",
    "    \n",
    "\n",
    "    def __make_array(self,capacity):\n",
    "        return (capacity*ctypes.py_object)()  \n",
    "    "
   ]
  },
  {
   "cell_type": "code",
   "execution_count": 8,
   "id": "2c669c92-0bc1-4616-bd25-1ec03d9dfc99",
   "metadata": {},
   "outputs": [
    {
     "data": {
      "text/plain": [
       "0"
      ]
     },
     "execution_count": 8,
     "metadata": {},
     "output_type": "execute_result"
    }
   ],
   "source": [
    "List = meraList()\n",
    "len(List)"
   ]
  },
  {
   "cell_type": "code",
   "execution_count": 9,
   "id": "fa99fbbc-fc90-49c1-bef7-ddec0b39ff3b",
   "metadata": {},
   "outputs": [
    {
     "data": {
      "text/plain": [
       "3"
      ]
     },
     "execution_count": 9,
     "metadata": {},
     "output_type": "execute_result"
    }
   ],
   "source": [
    "### List = [2,3,4]\n",
    "len(List)"
   ]
  },
  {
   "cell_type": "code",
   "execution_count": null,
   "id": "cdbe5d82-19d1-4d19-ab01-77c4cb3fc03e",
   "metadata": {},
   "outputs": [],
   "source": []
  }
 ],
 "metadata": {
  "kernelspec": {
   "display_name": "Python 3 (ipykernel)",
   "language": "python",
   "name": "python3"
  },
  "language_info": {
   "codemirror_mode": {
    "name": "ipython",
    "version": 3
   },
   "file_extension": ".py",
   "mimetype": "text/x-python",
   "name": "python",
   "nbconvert_exporter": "python",
   "pygments_lexer": "ipython3",
   "version": "3.12.8"
  }
 },
 "nbformat": 4,
 "nbformat_minor": 5
}
